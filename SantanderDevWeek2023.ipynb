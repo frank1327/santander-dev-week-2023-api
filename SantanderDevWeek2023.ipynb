{
  "nbformat": 4,
  "nbformat_minor": 0,
  "metadata": {
    "colab": {
      "provenance": [],
      "authorship_tag": "ABX9TyPhVUagRqAeJo0TshkwW5WA",
      "include_colab_link": true
    },
    "kernelspec": {
      "name": "python3",
      "display_name": "Python 3"
    },
    "language_info": {
      "name": "python"
    }
  },
  "cells": [
    {
      "cell_type": "markdown",
      "metadata": {
        "id": "view-in-github",
        "colab_type": "text"
      },
      "source": [
        "<a href=\"https://colab.research.google.com/github/frank1327/santander-dev-week-2023-api/blob/main/SantanderDevWeek2023.ipynb\" target=\"_parent\"><img src=\"https://colab.research.google.com/assets/colab-badge.svg\" alt=\"Open In Colab\"/></a>"
      ]
    },
    {
      "cell_type": "code",
      "execution_count": 32,
      "metadata": {
        "id": "c4tLqey53R65"
      },
      "outputs": [],
      "source": [
        "sdw2023_api_url = 'https://sdw-2023-prd.up.railway.app'"
      ]
    },
    {
      "cell_type": "code",
      "source": [
        "#Extrac\n",
        "import pandas as pd\n",
        "\n",
        "df = pd.read_csv('sdw.txt')\n",
        "user_ids = df['UserID'].tolist()\n",
        "print(user_ids)\n",
        "import requests\n",
        "import json\n",
        "\n",
        "def get_user(id):\n",
        "  response = requests.get(f'{sdw2023_api_url}/users/{id}')\n",
        "  return response.json() if response.status_code == 200 else None\n",
        "\n",
        "users = [user for id in user_ids if (user := get_user(id)) is not None]\n",
        "print(json.dumps(users, indent=2))"
      ],
      "metadata": {
        "colab": {
          "base_uri": "https://localhost:8080/"
        },
        "id": "COiPsUkM3kmI",
        "outputId": "e399a439-de5a-4135-c9b6-01e0708fcc57"
      },
      "execution_count": 33,
      "outputs": [
        {
          "output_type": "stream",
          "name": "stdout",
          "text": [
            "[5863, 5864, 5865]\n",
            "[\n",
            "  {\n",
            "    \"id\": 5863,\n",
            "    \"name\": \"Frederico\",\n",
            "    \"account\": {\n",
            "      \"id\": 6212,\n",
            "      \"number\": \"0020-6\",\n",
            "      \"agency\": \"47004-4\",\n",
            "      \"balance\": 0.0,\n",
            "      \"limit\": 10000.0\n",
            "    },\n",
            "    \"card\": {\n",
            "      \"id\": 5697,\n",
            "      \"number\": \"*********0000\",\n",
            "      \"limit\": 1000.0\n",
            "    },\n",
            "    \"features\": [\n",
            "      {\n",
            "        \"id\": 1766,\n",
            "        \"icon\": \"string\",\n",
            "        \"description\": \"string\"\n",
            "      }\n",
            "    ],\n",
            "    \"news\": []\n",
            "  },\n",
            "  {\n",
            "    \"id\": 5864,\n",
            "    \"name\": \"Heimer\",\n",
            "    \"account\": {\n",
            "      \"id\": 6213,\n",
            "      \"number\": \"0010-9\",\n",
            "      \"agency\": \"78004-3\",\n",
            "      \"balance\": 0.0,\n",
            "      \"limit\": 10000.0\n",
            "    },\n",
            "    \"card\": {\n",
            "      \"id\": 5698,\n",
            "      \"number\": \"*****0000****\",\n",
            "      \"limit\": 1000.0\n",
            "    },\n",
            "    \"features\": [\n",
            "      {\n",
            "        \"id\": 1767,\n",
            "        \"icon\": \"string\",\n",
            "        \"description\": \"string\"\n",
            "      }\n",
            "    ],\n",
            "    \"news\": []\n",
            "  },\n",
            "  {\n",
            "    \"id\": 5865,\n",
            "    \"name\": \"Akali\",\n",
            "    \"account\": {\n",
            "      \"id\": 6214,\n",
            "      \"number\": \"0091-9\",\n",
            "      \"agency\": \"78004-3\",\n",
            "      \"balance\": 0.0,\n",
            "      \"limit\": 10000.0\n",
            "    },\n",
            "    \"card\": {\n",
            "      \"id\": 5699,\n",
            "      \"number\": \"0000*********\",\n",
            "      \"limit\": 1000.0\n",
            "    },\n",
            "    \"features\": [\n",
            "      {\n",
            "        \"id\": 1768,\n",
            "        \"icon\": \"string\",\n",
            "        \"description\": \"string\"\n",
            "      }\n",
            "    ],\n",
            "    \"news\": []\n",
            "  }\n",
            "]\n"
          ]
        }
      ]
    },
    {
      "cell_type": "code",
      "source": [
        "#Transfom"
      ],
      "metadata": {
        "id": "yvjggr4L4pd3"
      },
      "execution_count": null,
      "outputs": []
    },
    {
      "cell_type": "code",
      "source": [
        "def generate_ai_news(user):\n",
        "  messages = f\"Caro senhor(a) {user['name']} quem já refletiu sobre o seu futuro financeiro certamente pensou sobre como começar a investir. O verbo talvez soe como uma possibilidade distante para muitas pessoas. Mas a verdade é que existem muitas formas de investir – das mais acessíveis às mais sofisticadas.\"\n",
        "  return messages.strip('\\\"')\n",
        "for user in users:\n",
        "  news = generate_ai_news(user)\n",
        "  #print(news)\n",
        "  print(user)\n",
        "  user['news'].append({\n",
        "      \"icon\": \"https://digitalinnovationone.github.io/santander-dev-week-2023-api/icons/credit.svg\",\n",
        "      \"description\": news\n",
        "  })"
      ],
      "metadata": {
        "colab": {
          "base_uri": "https://localhost:8080/"
        },
        "id": "G_ABRnlY5Rb9",
        "outputId": "2b2b28b2-0d9e-4b57-fd5e-0d8f5e77988b"
      },
      "execution_count": 47,
      "outputs": [
        {
          "output_type": "stream",
          "name": "stdout",
          "text": [
            "{'id': 5863, 'name': 'Frederico', 'account': {'id': 6212, 'number': '0020-6', 'agency': '47004-4', 'balance': 0.0, 'limit': 10000.0}, 'card': {'id': 5697, 'number': '*********0000', 'limit': 1000.0}, 'features': [{'id': 1766, 'icon': 'string', 'description': 'string'}], 'news': [{'icon': 'https://digitalinnovationone.github.io/santander-dev-week-2023-api/icons/credit.svg', 'description': 'Caro senhor(a) Frederico quem já refletiu sobre o seu futuro financeiro certamente pensou sobre como começar a investir. O verbo talvez soe como uma possibilidade distante para muitas pessoas. Mas a verdade é que existem muitas formas de investir – das mais acessíveis às mais sofisticadas.'}, {'icon': 'https://digitalinnovationone.github.io/santander-dev-week-2023-api/icons/credit.svg', 'description': 'Caro senhor(a) Frederico quem já refletiu sobre o seu futuro financeiro certamente pensou sobre como começar a investir. O verbo talvez soe como uma possibilidade distante para muitas pessoas. Mas a verdade é que existem muitas formas de investir – das mais acessíveis às mais sofisticadas.'}, {'icon': 'https://digitalinnovationone.github.io/santander-dev-week-2023-api/icons/credit.svg', 'description': 'Caro senhor(a) Frederico quem já refletiu sobre o seu futuro financeiro certamente pensou sobre como começar a investir. O verbo talvez soe como uma possibilidade distante para muitas pessoas. Mas a verdade é que existem muitas formas de investir – das mais acessíveis às mais sofisticadas.'}, {'icon': 'https://digitalinnovationone.github.io/santander-dev-week-2023-api/icons/credit.svg', 'description': 'Caro senhor(a) Frederico quem já refletiu sobre o seu futuro financeiro certamente pensou sobre como começar a investir. O verbo talvez soe como uma possibilidade distante para muitas pessoas. Mas a verdade é que existem muitas formas de investir – das mais acessíveis às mais sofisticadas.'}, {'icon': 'https://digitalinnovationone.github.io/santander-dev-week-2023-api/icons/credit.svg', 'description': 'Caro senhor(a) Frederico quem já refletiu sobre o seu futuro financeiro certamente pensou sobre como começar a investir. O verbo talvez soe como uma possibilidade distante para muitas pessoas. Mas a verdade é que existem muitas formas de investir – das mais acessíveis às mais sofisticadas.'}, {'description': 'Caro senhor(a) Frederico quem já refletiu sobre o seu futuro financeiro certamente pensou sobre como começar a investir. O verbo talvez soe como uma possibilidade distante para muitas pessoas. Mas a verdade é que existem muitas formas de investir – das mais acessíveis às mais sofisticadas.'}, {'description': 'Att'}, {'description': 'Caro senhor(a) Frederico quem já refletiu sobre o seu futuro financeiro certamente pensou sobre como começar a investir. O verbo talvez soe como uma possibilidade distante para muitas pessoas. Mas a verdade é que existem muitas formas de investir – das mais acessíveis às mais sofisticadas.'}]}\n",
            "{'id': 5864, 'name': 'Heimer', 'account': {'id': 6213, 'number': '0010-9', 'agency': '78004-3', 'balance': 0.0, 'limit': 10000.0}, 'card': {'id': 5698, 'number': '*****0000****', 'limit': 1000.0}, 'features': [{'id': 1767, 'icon': 'string', 'description': 'string'}], 'news': [{'icon': 'https://digitalinnovationone.github.io/santander-dev-week-2023-api/icons/credit.svg', 'description': 'Caro senhor(a) Heimer quem já refletiu sobre o seu futuro financeiro certamente pensou sobre como começar a investir. O verbo talvez soe como uma possibilidade distante para muitas pessoas. Mas a verdade é que existem muitas formas de investir – das mais acessíveis às mais sofisticadas.'}, {'icon': 'https://digitalinnovationone.github.io/santander-dev-week-2023-api/icons/credit.svg', 'description': 'Caro senhor(a) Heimer quem já refletiu sobre o seu futuro financeiro certamente pensou sobre como começar a investir. O verbo talvez soe como uma possibilidade distante para muitas pessoas. Mas a verdade é que existem muitas formas de investir – das mais acessíveis às mais sofisticadas.'}, {'icon': 'https://digitalinnovationone.github.io/santander-dev-week-2023-api/icons/credit.svg', 'description': 'Caro senhor(a) Heimer quem já refletiu sobre o seu futuro financeiro certamente pensou sobre como começar a investir. O verbo talvez soe como uma possibilidade distante para muitas pessoas. Mas a verdade é que existem muitas formas de investir – das mais acessíveis às mais sofisticadas.'}, {'icon': 'https://digitalinnovationone.github.io/santander-dev-week-2023-api/icons/credit.svg', 'description': 'Caro senhor(a) Heimer quem já refletiu sobre o seu futuro financeiro certamente pensou sobre como começar a investir. O verbo talvez soe como uma possibilidade distante para muitas pessoas. Mas a verdade é que existem muitas formas de investir – das mais acessíveis às mais sofisticadas.'}, {'icon': 'https://digitalinnovationone.github.io/santander-dev-week-2023-api/icons/credit.svg', 'description': 'Caro senhor(a) Heimer quem já refletiu sobre o seu futuro financeiro certamente pensou sobre como começar a investir. O verbo talvez soe como uma possibilidade distante para muitas pessoas. Mas a verdade é que existem muitas formas de investir – das mais acessíveis às mais sofisticadas.'}, {'description': 'Caro senhor(a) Heimer quem já refletiu sobre o seu futuro financeiro certamente pensou sobre como começar a investir. O verbo talvez soe como uma possibilidade distante para muitas pessoas. Mas a verdade é que existem muitas formas de investir – das mais acessíveis às mais sofisticadas.'}, {'description': 'Att'}, {'description': 'Caro senhor(a) Heimer quem já refletiu sobre o seu futuro financeiro certamente pensou sobre como começar a investir. O verbo talvez soe como uma possibilidade distante para muitas pessoas. Mas a verdade é que existem muitas formas de investir – das mais acessíveis às mais sofisticadas.'}]}\n",
            "{'id': 5865, 'name': 'Akali', 'account': {'id': 6214, 'number': '0091-9', 'agency': '78004-3', 'balance': 0.0, 'limit': 10000.0}, 'card': {'id': 5699, 'number': '0000*********', 'limit': 1000.0}, 'features': [{'id': 1768, 'icon': 'string', 'description': 'string'}], 'news': [{'icon': 'https://digitalinnovationone.github.io/santander-dev-week-2023-api/icons/credit.svg', 'description': 'Caro senhor(a) Akali quem já refletiu sobre o seu futuro financeiro certamente pensou sobre como começar a investir. O verbo talvez soe como uma possibilidade distante para muitas pessoas. Mas a verdade é que existem muitas formas de investir – das mais acessíveis às mais sofisticadas.'}, {'icon': 'https://digitalinnovationone.github.io/santander-dev-week-2023-api/icons/credit.svg', 'description': 'Caro senhor(a) Akali quem já refletiu sobre o seu futuro financeiro certamente pensou sobre como começar a investir. O verbo talvez soe como uma possibilidade distante para muitas pessoas. Mas a verdade é que existem muitas formas de investir – das mais acessíveis às mais sofisticadas.'}, {'icon': 'https://digitalinnovationone.github.io/santander-dev-week-2023-api/icons/credit.svg', 'description': 'Caro senhor(a) Akali quem já refletiu sobre o seu futuro financeiro certamente pensou sobre como começar a investir. O verbo talvez soe como uma possibilidade distante para muitas pessoas. Mas a verdade é que existem muitas formas de investir – das mais acessíveis às mais sofisticadas.'}, {'icon': 'https://digitalinnovationone.github.io/santander-dev-week-2023-api/icons/credit.svg', 'description': 'Caro senhor(a) Akali quem já refletiu sobre o seu futuro financeiro certamente pensou sobre como começar a investir. O verbo talvez soe como uma possibilidade distante para muitas pessoas. Mas a verdade é que existem muitas formas de investir – das mais acessíveis às mais sofisticadas.'}, {'icon': 'https://digitalinnovationone.github.io/santander-dev-week-2023-api/icons/credit.svg', 'description': 'Caro senhor(a) Akali quem já refletiu sobre o seu futuro financeiro certamente pensou sobre como começar a investir. O verbo talvez soe como uma possibilidade distante para muitas pessoas. Mas a verdade é que existem muitas formas de investir – das mais acessíveis às mais sofisticadas.'}, {'description': 'Caro senhor(a) Akali quem já refletiu sobre o seu futuro financeiro certamente pensou sobre como começar a investir. O verbo talvez soe como uma possibilidade distante para muitas pessoas. Mas a verdade é que existem muitas formas de investir – das mais acessíveis às mais sofisticadas.'}, {'description': 'Att'}, {'description': 'Caro senhor(a) Akali quem já refletiu sobre o seu futuro financeiro certamente pensou sobre como começar a investir. O verbo talvez soe como uma possibilidade distante para muitas pessoas. Mas a verdade é que existem muitas formas de investir – das mais acessíveis às mais sofisticadas.'}]}\n"
          ]
        }
      ]
    },
    {
      "cell_type": "code",
      "source": [
        "#Load"
      ],
      "metadata": {
        "id": "7Hj3Kdd87rZq"
      },
      "execution_count": null,
      "outputs": []
    },
    {
      "cell_type": "code",
      "source": [
        "def update_user(user):\n",
        "  response = requests.put(f\"{sdw2023_api_url}/users/{user['id']}\", json=user)\n",
        "  return True if response.status_code == 200 else False\n",
        "\n",
        "for user in users:\n",
        "  success = update_user(user)\n",
        "  print(f\"User {user['name']} updated? {success}!\")"
      ],
      "metadata": {
        "colab": {
          "base_uri": "https://localhost:8080/"
        },
        "id": "ju9J1B2L7wJv",
        "outputId": "908da99d-0d8d-4f1a-f515-19f44a583c64"
      },
      "execution_count": 48,
      "outputs": [
        {
          "output_type": "stream",
          "name": "stdout",
          "text": [
            "User Frederico updated? False!\n",
            "User Heimer updated? False!\n",
            "User Akali updated? False!\n"
          ]
        }
      ]
    }
  ]
}